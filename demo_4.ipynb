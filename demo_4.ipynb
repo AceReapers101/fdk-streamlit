{
 "cells": [
  {
   "cell_type": "markdown",
   "metadata": {},
   "source": [
    "## Hello!\n",
    "Welcome to Demo-4, the following notebook will be showing you what you can do with 1stDayKit's multifarious ML-vision tools! Specifically, we will be looking at the following 1stDayKit submodules (all based on huggingface's transformer repo):\n",
    "* Text Generator\n",
    "* Text Summarizer\n",
    "* Text Sentiment Analysis\n",
    "* Text Question-Answering\n",
    "* Text Translation (certain language-pairs only)\n",
    "\n",
    "**Warning!**: The following demo notebook will trigger automatic downloading of heavy pretrained model weights.\n",
    "\n",
    "Have fun!"
   ]
  },
  {
   "cell_type": "markdown",
   "metadata": {},
   "source": [
    "---------------------"
   ]
  },
  {
   "cell_type": "markdown",
   "metadata": {},
   "source": [
    "### 0. Importing Packages & Dependencies"
   ]
  },
  {
   "cell_type": "code",
   "execution_count": 1,
   "metadata": {},
   "outputs": [],
   "source": [
    "#Import libs\n",
    "from src.core.text_gen import TextGen_Base as TGL\n",
    "from src.core.qa import QuesAns\n",
    "from src.core.summarize import Summarizer\n",
    "from src.core.sentiment import SentimentAnalyzer\n",
    "from src.core.translate import Translator_M\n",
    "from src.core.utils import utils\n",
    "\n",
    "from PIL import Image\n",
    "from pprint import pprint\n",
    "\n",
    "import os\n",
    "import matplotlib.pyplot as plt\n",
    "import numpy"
   ]
  },
  {
   "cell_type": "markdown",
   "metadata": {},
   "source": [
    "### 1. Simple Look at 1stDayKit NLP-Models"
   ]
  },
  {
   "cell_type": "markdown",
   "metadata": {},
   "source": [
    "#### 1. Looking at Text Generation\n",
    "Feel free to play around with all 4 variants of Text-Generator that we have provided in 1stDayKit. They are as follow in ascending order of computational demand:\n",
    "* TextGen_Lite\n",
    "* TextGen_Base\n",
    "* TextGen_Large\n",
    "* TextGen_XL\n",
    "\n",
    "**Warning!**: If your machine does not meet the minimum computation requirement while running some of the larger models, it may crash!"
   ]
  },
  {
   "cell_type": "code",
   "execution_count": null,
   "metadata": {},
   "outputs": [],
   "source": [
    "#Initialization\n",
    "textgen = TGL(name=\"Text Generator\",max_length=16,num_return_sequences=3)"
   ]
  },
  {
   "cell_type": "code",
   "execution_count": 23,
   "metadata": {},
   "outputs": [
    {
     "name": "stderr",
     "output_type": "stream",
     "text": [
      "Setting `pad_token_id` to 50256 (first `eos_token_id`) to generate sequence\n"
     ]
    },
    {
     "name": "stdout",
     "output_type": "stream",
     "text": [
      "[{'generated_text': 'Let me say as an atheist, I do believe that our religion '\n",
      "                    'is a real'},\n",
      " {'generated_text': \"Let me say this: in the last week I've found myself at \"\n",
      "                    'the bottom'},\n",
      " {'generated_text': 'Let me say thank you one more time – because of God we '\n",
      "                    'will not be'}]\n"
     ]
    }
   ],
   "source": [
    "#Infer & Visualize\n",
    "output = textgen.predict(\"Let me say\")\n",
    "textgen.visualize(output)"
   ]
  },
  {
   "cell_type": "markdown",
   "metadata": {},
   "source": [
    "**Note**: <br>\n",
    "Want to find out more on what GPT-2 (the model underlying 1stDayKit's TextGen modules) can do? Check out this cool blogpost on *poetry* generation with GPT-2 with some sweet examples! <br>\n",
    "* Link: https://www.gwern.net/GPT-2"
   ]
  },
  {
   "cell_type": "markdown",
   "metadata": {},
   "source": [
    "#### 2. Looking at Question & Answering"
   ]
  },
  {
   "cell_type": "code",
   "execution_count": 3,
   "metadata": {
    "scrolled": true
   },
   "outputs": [],
   "source": [
    "#Initialization\n",
    "QA = QuesAns()"
   ]
  },
  {
   "cell_type": "code",
   "execution_count": 8,
   "metadata": {},
   "outputs": [],
   "source": [
    "#Setup questions and answer and infer\n",
    "context = \"\"\" Extractive Question Answering is the task of extracting an answer from a text given a question. An example of a\n",
    "question answering dataset is the SQuAD dataset, which is entirely based on that task. If you would like to fine-tune\n",
    "a model on a SQuAD task, you may leverage the `run_squad.py`.\"\"\"\n",
    "\n",
    "question = \"What is extractive question answering?\"\n",
    "\n",
    "question_answer = {'question':question,'context':context}"
   ]
  },
  {
   "cell_type": "code",
   "execution_count": 10,
   "metadata": {},
   "outputs": [
    {
     "name": "stdout",
     "output_type": "stream",
     "text": [
      "{'answer': 'the task of extracting an answer from a text given a question.',\n",
      " 'end': 96,\n",
      " 'score': 0.6185597764655871,\n",
      " 'start': 34}\n"
     ]
    }
   ],
   "source": [
    "#Infer and visualize\n",
    "output = QA.predict(question_answer)\n",
    "QA.visualize(output)"
   ]
  },
  {
   "cell_type": "markdown",
   "metadata": {},
   "source": [
    "#### 3. Looking at Text Summarizer"
   ]
  },
  {
   "cell_type": "code",
   "execution_count": 2,
   "metadata": {},
   "outputs": [
    {
     "name": "stderr",
     "output_type": "stream",
     "text": [
      "/home/keifer/anaconda3/envs/1stdaykit/lib/python3.8/site-packages/transformers/modeling_auto.py:796: FutureWarning: The class `AutoModelWithLMHead` is deprecated and will be removed in a future version. Please use `AutoModelForCausalLM` for causal language models, `AutoModelForMaskedLM` for masked language models and `AutoModelForSeq2SeqLM` for encoder-decoder models.\n",
      "  warnings.warn(\n",
      "Some weights of BartForConditionalGeneration were not initialized from the model checkpoint at facebook/bart-large-cnn and are newly initialized: ['final_logits_bias']\n",
      "You should probably TRAIN this model on a down-stream task to be able to use it for predictions and inference.\n"
     ]
    }
   ],
   "source": [
    "#Initialize\n",
    "SM = Summarizer()"
   ]
  },
  {
   "cell_type": "code",
   "execution_count": 3,
   "metadata": {},
   "outputs": [],
   "source": [
    "#Setup text to summarize\n",
    "main_text_to_summarize = \"\"\" New York (CNN)When Liana Barrientos was 23 years old, she got married in Westchester County, New York.\n",
    "A year later, she got married again in Westchester County, but to a different man and without divorcing her first husband.\n",
    "Only 18 days after that marriage, she got hitched yet again. Then, Barrientos declared \"I do\" five more times, sometimes only within two weeks of each other.\n",
    "In 2010, she married once more, this time in the Bronx. In an application for a marriage license, she stated it was her \"first and only\" marriage.\n",
    "Barrientos, now 39, is facing two criminal counts of \"offering a false instrument for filing in the first degree,\" referring to her false statements on the\n",
    "2010 marriage license application, according to court documents.\n",
    "Prosecutors said the marriages were part of an immigration scam.\n",
    "On Friday, she pleaded not guilty at State Supreme Court in the Bronx, according to her attorney, Christopher Wright, who declined to comment further.\n",
    "After leaving court, Barrientos was arrested and charged with theft of service and criminal trespass for allegedly sneaking into the New York subway through an emergency exit, said Detective\n",
    "Annette Markowski, a police spokeswoman. In total, Barrientos has been married 10 times, with nine of her marriages occurring between 1999 and 2002.\n",
    "All occurred either in Westchester County, Long Island, New Jersey or the Bronx. She is believed to still be married to four men, and at one time, she was married to eight men at once, prosecutors say.\n",
    "Prosecutors said the immigration scam involved some of her husbands, who filed for permanent residence status shortly after the marriages.\n",
    "Any divorces happened only after such filings were approved. It was unclear whether any of the men will be prosecuted.\n",
    "The case was referred to the Bronx District Attorney\\'s Office by Immigration and Customs Enforcement and the Department of Homeland Security\\'s\n",
    "Investigation Division. Seven of the men are from so-called \"red-flagged\" countries, including Egypt, Turkey, Georgia, Pakistan and Mali.\n",
    "Her eighth husband, Rashid Rajput, was deported in 2006 to his native Pakistan after an investigation by the Joint Terrorism Task Force.\n",
    "If convicted, Barrientos faces up to four years in prison.  Her next court appearance is scheduled for May 18.\n",
    "\"\"\""
   ]
  },
  {
   "cell_type": "code",
   "execution_count": 4,
   "metadata": {},
   "outputs": [
    {
     "name": "stdout",
     "output_type": "stream",
     "text": [
      "{'Raw': ' New York (CNN)When Liana Barrientos was 23 years old, she got '\n",
      "        'married in Westchester County, New York.\\n'\n",
      "        'A year later, she got married again in Westchester County, but to a '\n",
      "        'different man and without divorcing her first husband.\\n'\n",
      "        'Only 18 days after that marriage, she got hitched yet again. Then, '\n",
      "        'Barrientos declared \"I do\" five more times, sometimes only within two '\n",
      "        'weeks of each other.\\n'\n",
      "        'In 2010, she married once more, this time in the Bronx. In an '\n",
      "        'application for a marriage license, she stated it was her \"first and '\n",
      "        'only\" marriage.\\n'\n",
      "        'Barrientos, now 39, is facing two criminal counts of \"offering a '\n",
      "        'false instrument for filing in the first degree,\" referring to her '\n",
      "        'false statements on the\\n'\n",
      "        '2010 marriage license application, according to court documents.\\n'\n",
      "        'Prosecutors said the marriages were part of an immigration scam.\\n'\n",
      "        'On Friday, she pleaded not guilty at State Supreme Court in the '\n",
      "        'Bronx, according to her attorney, Christopher Wright, who declined to '\n",
      "        'comment further.\\n'\n",
      "        'After leaving court, Barrientos was arrested and charged with theft '\n",
      "        'of service and criminal trespass for allegedly sneaking into the New '\n",
      "        'York subway through an emergency exit, said Detective\\n'\n",
      "        'Annette Markowski, a police spokeswoman. In total, Barrientos has '\n",
      "        'been married 10 times, with nine of her marriages occurring between '\n",
      "        '1999 and 2002.\\n'\n",
      "        'All occurred either in Westchester County, Long Island, New Jersey or '\n",
      "        'the Bronx. She is believed to still be married to four men, and at '\n",
      "        'one time, she was married to eight men at once, prosecutors say.\\n'\n",
      "        'Prosecutors said the immigration scam involved some of her husbands, '\n",
      "        'who filed for permanent residence status shortly after the '\n",
      "        'marriages.\\n'\n",
      "        'Any divorces happened only after such filings were approved. It was '\n",
      "        'unclear whether any of the men will be prosecuted.\\n'\n",
      "        \"The case was referred to the Bronx District Attorney's Office by \"\n",
      "        'Immigration and Customs Enforcement and the Department of Homeland '\n",
      "        \"Security's\\n\"\n",
      "        'Investigation Division. Seven of the men are from so-called '\n",
      "        '\"red-flagged\" countries, including Egypt, Turkey, Georgia, Pakistan '\n",
      "        'and Mali.\\n'\n",
      "        'Her eighth husband, Rashid Rajput, was deported in 2006 to his native '\n",
      "        'Pakistan after an investigation by the Joint Terrorism Task Force.\\n'\n",
      "        'If convicted, Barrientos faces up to four years in prison.  Her next '\n",
      "        'court appearance is scheduled for May 18.\\n',\n",
      " 'Summarized': 'Liana Barrientos, 39, is charged with two counts of \"offering '\n",
      "               'a false instrument for filing in the first degree\" In total, '\n",
      "               'she has been married 10 times, with nine of her marriages '\n",
      "               'occurring between 1999 and 2002. She is believed to still be '\n",
      "               'married to four men.'}\n"
     ]
    }
   ],
   "source": [
    "#Infer\n",
    "output = SM.predict(main_text_to_summarize)\n",
    "SM.visualize(main_text_to_summarize,output)"
   ]
  },
  {
   "cell_type": "markdown",
   "metadata": {},
   "source": [
    "**Note**:\n",
    "* Please note that the summarizer is not perfect (as is with all ML models)! See that the model has wrongly concluded that Liana Barrientos got charged, whereby in fact the ruling on said charges was not available at the time of writing of the main text.\n",
    "* However, this does not diminish significantly the fact that a summarizer as such would still be useful (and indeed much more accurate with further training) in many real-world applications. "
   ]
  },
  {
   "cell_type": "markdown",
   "metadata": {},
   "source": [
    "#### 4. Looking at Text Sentiment Analyzer "
   ]
  },
  {
   "cell_type": "code",
   "execution_count": 2,
   "metadata": {},
   "outputs": [],
   "source": [
    "#Initialize\n",
    "ST = SentimentAnalyzer()"
   ]
  },
  {
   "cell_type": "code",
   "execution_count": 8,
   "metadata": {},
   "outputs": [],
   "source": [
    "#Setup texts. Let's try a bunch of them.\n",
    "main_text_to_analyze = [\"The food is not too hot, which makes it just right.\",\n",
    "                        \"The weather is not looking too good today\",\n",
    "                        \"The sky is looking a bit gloomy, time to catch a nap!\",\n",
    "                        \"War is what it is\",\n",
    "                        \"Superheroes are mere child fantasies\"]"
   ]
  },
  {
   "cell_type": "code",
   "execution_count": 9,
   "metadata": {},
   "outputs": [
    {
     "name": "stdout",
     "output_type": "stream",
     "text": [
      "{'Confidence': 0.9998283386230469,\n",
      " 'Raw Text': 'The food is not too hot, which makes it just right.',\n",
      " 'Sentiment': 'POSITIVE'}\n",
      "{'Confidence': 0.9997212290763855,\n",
      " 'Raw Text': 'The weather is not looking too good today',\n",
      " 'Sentiment': 'NEGATIVE'}\n",
      "{'Confidence': 0.9982035756111145,\n",
      " 'Raw Text': 'The sky is looking a bit gloomy, time to catch a nap!',\n",
      " 'Sentiment': 'NEGATIVE'}\n",
      "{'Confidence': 0.9993534684181213,\n",
      " 'Raw Text': 'War is what it is',\n",
      " 'Sentiment': 'NEGATIVE'}\n",
      "{'Confidence': 0.8927153944969177,\n",
      " 'Raw Text': 'Superheroes are mere child fantasies',\n",
      " 'Sentiment': 'NEGATIVE'}\n"
     ]
    }
   ],
   "source": [
    "#Infer\n",
    "output = ST.predict(main_text_to_analyze)\n",
    "ST.visualize(main_text_to_analyze,output)"
   ]
  },
  {
   "cell_type": "markdown",
   "metadata": {},
   "source": [
    "**Note**: Interesting! See that there are gaps still at times in the language model when it comes to tricky statements."
   ]
  },
  {
   "cell_type": "markdown",
   "metadata": {},
   "source": [
    "#### 5. Looking at Text Translator"
   ]
  },
  {
   "cell_type": "markdown",
   "metadata": {},
   "source": [
    "We will be using the **MarianMT** series of pre-trained language models available on HuggingFace. More info and documentation can be found at https://huggingface.co/transformers/model_doc/marian.html."
   ]
  },
  {
   "cell_type": "code",
   "execution_count": 4,
   "metadata": {},
   "outputs": [],
   "source": [
    "#Initialize\n",
    "Trans = Translator_M(task='Helsinki-NLP/opus-mt-en-ROMANCE')"
   ]
  },
  {
   "cell_type": "code",
   "execution_count": 7,
   "metadata": {},
   "outputs": [],
   "source": [
    "#Setup texts\n",
    "text_to_translate = ['>>fr<< this is a sentence in english that we want to translate to french',\n",
    "                     '>>pt<< This should go to portuguese',\n",
    "                     '>>es<< And this to Spanish']"
   ]
  },
  {
   "cell_type": "code",
   "execution_count": 8,
   "metadata": {},
   "outputs": [
    {
     "data": {
      "text/plain": [
       "[\"c'est une phrase en anglais que nous voulons traduire en français\",\n",
       " 'Isto deve ir para o português.',\n",
       " 'Y esto al español']"
      ]
     },
     "execution_count": 8,
     "metadata": {},
     "output_type": "execute_result"
    }
   ],
   "source": [
    "#Infer\n",
    "output = Trans.predict(text_to_translate)\n",
    "output"
   ]
  },
  {
   "cell_type": "code",
   "execution_count": 10,
   "metadata": {},
   "outputs": [
    {
     "name": "stdout",
     "output_type": "stream",
     "text": [
      "{'Raw Text': ['>>fr<< this is a sentence in english that we want to translate '\n",
      "              'to french',\n",
      "              '>>pt<< This should go to portuguese',\n",
      "              '>>es<< And this to Spanish'],\n",
      " 'Task': 'opus-mt-en-ROMANCE',\n",
      " 'Translation': [\"c'est une phrase en anglais que nous voulons traduire en \"\n",
      "                 'français',\n",
      "                 'Isto deve ir para o português.',\n",
      "                 'Y esto al español']}\n"
     ]
    }
   ],
   "source": [
    "Trans.visualize(text_to_translate,output)"
   ]
  },
  {
   "cell_type": "code",
   "execution_count": 11,
   "metadata": {},
   "outputs": [],
   "source": [
    "#Setup texts longer text!\n",
    "text_to_translate = ['>>fr<< Liana Barrientos, 39, is charged with two counts of \"offering a false instrument for filing in the first degree\" In total, she has been married 10 times, with nine of her marriages occurring between 1999 and 2002. She is believed to still be married to four men.']"
   ]
  },
  {
   "cell_type": "code",
   "execution_count": 12,
   "metadata": {},
   "outputs": [
    {
     "data": {
      "text/plain": [
       "[\"Liana Barrientos, 39 ans, est accusée de deux chefs d'accusation pour « offrir un faux instrument pour le dépôt au premier degré » Au total, elle a été mariée 10 fois, neuf de ses mariages se produisant entre 1999 et 2002. On pense qu'elle est toujours mariée à quatre hommes.\"]"
      ]
     },
     "execution_count": 12,
     "metadata": {},
     "output_type": "execute_result"
    }
   ],
   "source": [
    "#Infer\n",
    "output = Trans.predict(text_to_translate)\n",
    "output"
   ]
  },
  {
   "cell_type": "markdown",
   "metadata": {},
   "source": [
    "**Google Translate from French to English**<br>\n",
    "Liana Barrientos, 39, is charged with two counts of 'offering a false instrument for first degree deposition' In total, she has been married 10 times, with nine of her marriages occurring between 1999 and 2002. One thinks she's still married to four men. \"\n",
    "\n",
    "Not bad.\n"
   ]
  },
  {
   "cell_type": "markdown",
   "metadata": {},
   "source": [
    "______________"
   ]
  },
  {
   "cell_type": "markdown",
   "metadata": {},
   "source": [
    "### Thank You!"
   ]
  }
 ],
 "metadata": {
  "kernelspec": {
   "display_name": "Python [conda env:fdk] *",
   "language": "python",
   "name": "conda-env-fdk-py"
  },
  "language_info": {
   "codemirror_mode": {
    "name": "ipython",
    "version": 3
   },
   "file_extension": ".py",
   "mimetype": "text/x-python",
   "name": "python",
   "nbconvert_exporter": "python",
   "pygments_lexer": "ipython3",
   "version": "3.8.5"
  }
 },
 "nbformat": 4,
 "nbformat_minor": 4
}
